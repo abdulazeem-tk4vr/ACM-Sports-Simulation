{
  "nbformat": 4,
  "nbformat_minor": 0,
  "metadata": {
    "colab": {
      "name": "football_dummy.ipynb",
      "provenance": [],
      "collapsed_sections": []
    },
    "kernelspec": {
      "name": "python3",
      "display_name": "Python 3"
    },
    "language_info": {
      "name": "python"
    }
  },
  "cells": [
    {
      "cell_type": "code",
      "metadata": {
        "id": "G2y6gbPfKkba"
      },
      "source": [
        "import pandas as pd\n",
        "import numpy as np"
      ],
      "execution_count": null,
      "outputs": []
    },
    {
      "cell_type": "code",
      "metadata": {
        "id": "0Xx7XOdJNZQ8"
      },
      "source": [
        "from sklearn import linear_model"
      ],
      "execution_count": null,
      "outputs": []
    },
    {
      "cell_type": "code",
      "metadata": {
        "id": "HVMB4bkKN9EK"
      },
      "source": [
        "from sklearn.model_selection import train_test_split"
      ],
      "execution_count": null,
      "outputs": []
    },
    {
      "cell_type": "code",
      "metadata": {
        "id": "pVS3Oo90Plea"
      },
      "source": [
        "from sklearn.svm import SVR"
      ],
      "execution_count": null,
      "outputs": []
    },
    {
      "cell_type": "code",
      "metadata": {
        "id": "lgC-mLt1QDgA"
      },
      "source": [
        "from sklearn.multioutput import MultiOutputRegressor"
      ],
      "execution_count": null,
      "outputs": []
    },
    {
      "cell_type": "code",
      "metadata": {
        "id": "1ztjJ7LDV7xm"
      },
      "source": [
        "from sklearn.ensemble import RandomForestRegressor"
      ],
      "execution_count": null,
      "outputs": []
    },
    {
      "cell_type": "markdown",
      "metadata": {
        "id": "f4MHBFW8MSmm"
      },
      "source": [
        "**BUILDING DUMMY DATASET**"
      ]
    },
    {
      "cell_type": "code",
      "metadata": {
        "id": "yftT1zyvKxqf"
      },
      "source": [
        "df = pd.DataFrame(columns=[\"h_feat_1\", \"h_feat_2\", \"h_feat_3\", \"a_feat_1\", \"a_feat_2\", \"a_feat_3\", \"h_goals\", \"a_goals\"])"
      ],
      "execution_count": null,
      "outputs": []
    },
    {
      "cell_type": "code",
      "metadata": {
        "id": "K6RHuAbCLr_A"
      },
      "source": [
        "feats = np.random.randint(8, size=(8, 50))"
      ],
      "execution_count": null,
      "outputs": []
    },
    {
      "cell_type": "code",
      "metadata": {
        "id": "2NYWHrVaLsft"
      },
      "source": [
        "df[\"h_feat_1\"] = feats[0]\n",
        "df[\"h_feat_2\"] = feats[1]\n",
        "df[\"h_feat_3\"] = feats[2]\n",
        "df[\"a_feat_1\"] = feats[3]\n",
        "df[\"a_feat_2\"] = feats[4]\n",
        "df[\"a_feat_3\"] = feats[5]\n",
        "df[\"h_goals\"] = feats[6]\n",
        "df[\"a_goals\"] = feats[7]"
      ],
      "execution_count": null,
      "outputs": []
    },
    {
      "cell_type": "code",
      "metadata": {
        "colab": {
          "base_uri": "https://localhost:8080/",
          "height": 206
        },
        "id": "Br5IcYYQLtiC",
        "outputId": "bac89996-ea81-43a4-920a-fd438e11f414"
      },
      "source": [
        "df.head()"
      ],
      "execution_count": null,
      "outputs": [
        {
          "output_type": "execute_result",
          "data": {
            "text/html": [
              "<div>\n",
              "<style scoped>\n",
              "    .dataframe tbody tr th:only-of-type {\n",
              "        vertical-align: middle;\n",
              "    }\n",
              "\n",
              "    .dataframe tbody tr th {\n",
              "        vertical-align: top;\n",
              "    }\n",
              "\n",
              "    .dataframe thead th {\n",
              "        text-align: right;\n",
              "    }\n",
              "</style>\n",
              "<table border=\"1\" class=\"dataframe\">\n",
              "  <thead>\n",
              "    <tr style=\"text-align: right;\">\n",
              "      <th></th>\n",
              "      <th>h_feat_1</th>\n",
              "      <th>h_feat_2</th>\n",
              "      <th>h_feat_3</th>\n",
              "      <th>a_feat_1</th>\n",
              "      <th>a_feat_2</th>\n",
              "      <th>a_feat_3</th>\n",
              "      <th>h_goals</th>\n",
              "      <th>a_goals</th>\n",
              "    </tr>\n",
              "  </thead>\n",
              "  <tbody>\n",
              "    <tr>\n",
              "      <th>0</th>\n",
              "      <td>2</td>\n",
              "      <td>4</td>\n",
              "      <td>4</td>\n",
              "      <td>2</td>\n",
              "      <td>1</td>\n",
              "      <td>4</td>\n",
              "      <td>2</td>\n",
              "      <td>3</td>\n",
              "    </tr>\n",
              "    <tr>\n",
              "      <th>1</th>\n",
              "      <td>6</td>\n",
              "      <td>6</td>\n",
              "      <td>6</td>\n",
              "      <td>3</td>\n",
              "      <td>5</td>\n",
              "      <td>1</td>\n",
              "      <td>4</td>\n",
              "      <td>3</td>\n",
              "    </tr>\n",
              "    <tr>\n",
              "      <th>2</th>\n",
              "      <td>6</td>\n",
              "      <td>2</td>\n",
              "      <td>4</td>\n",
              "      <td>6</td>\n",
              "      <td>0</td>\n",
              "      <td>4</td>\n",
              "      <td>1</td>\n",
              "      <td>5</td>\n",
              "    </tr>\n",
              "    <tr>\n",
              "      <th>3</th>\n",
              "      <td>2</td>\n",
              "      <td>5</td>\n",
              "      <td>1</td>\n",
              "      <td>1</td>\n",
              "      <td>3</td>\n",
              "      <td>3</td>\n",
              "      <td>1</td>\n",
              "      <td>7</td>\n",
              "    </tr>\n",
              "    <tr>\n",
              "      <th>4</th>\n",
              "      <td>7</td>\n",
              "      <td>3</td>\n",
              "      <td>2</td>\n",
              "      <td>1</td>\n",
              "      <td>1</td>\n",
              "      <td>4</td>\n",
              "      <td>3</td>\n",
              "      <td>4</td>\n",
              "    </tr>\n",
              "  </tbody>\n",
              "</table>\n",
              "</div>"
            ],
            "text/plain": [
              "   h_feat_1  h_feat_2  h_feat_3  a_feat_1  a_feat_2  a_feat_3  h_goals  a_goals\n",
              "0         2         4         4         2         1         4        2        3\n",
              "1         6         6         6         3         5         1        4        3\n",
              "2         6         2         4         6         0         4        1        5\n",
              "3         2         5         1         1         3         3        1        7\n",
              "4         7         3         2         1         1         4        3        4"
            ]
          },
          "metadata": {},
          "execution_count": 17
        }
      ]
    },
    {
      "cell_type": "code",
      "metadata": {
        "id": "PPJayHjrMOgG"
      },
      "source": [
        ""
      ],
      "execution_count": null,
      "outputs": []
    },
    {
      "cell_type": "code",
      "metadata": {
        "id": "54diJMhZNVTo"
      },
      "source": [
        ""
      ],
      "execution_count": null,
      "outputs": []
    },
    {
      "cell_type": "code",
      "metadata": {
        "id": "vaNu6rsmNVVv"
      },
      "source": [
        ""
      ],
      "execution_count": null,
      "outputs": []
    },
    {
      "cell_type": "markdown",
      "metadata": {
        "id": "sTB_xvJaMWSS"
      },
      "source": [
        "**SPLITTING DATA INTO X AND Y**"
      ]
    },
    {
      "cell_type": "code",
      "metadata": {
        "id": "rD3o4VznMaue"
      },
      "source": [
        "X = df.drop(columns=[\"h_goals\", \"a_goals\"])\n",
        "y = df[[\"h_goals\", \"a_goals\"]]"
      ],
      "execution_count": null,
      "outputs": []
    },
    {
      "cell_type": "code",
      "metadata": {
        "id": "KUX_rwm1My9w"
      },
      "source": [
        "X_np = np.array(X)\n",
        "y_np = np.array(y)"
      ],
      "execution_count": null,
      "outputs": []
    },
    {
      "cell_type": "code",
      "metadata": {
        "id": "n_FezDieN2eu"
      },
      "source": [
        "X_train, X_test, y_train, y_test = train_test_split(X_np, y_np, test_size=0.2)"
      ],
      "execution_count": null,
      "outputs": []
    },
    {
      "cell_type": "code",
      "metadata": {
        "colab": {
          "base_uri": "https://localhost:8080/"
        },
        "id": "OXFGEIbbOH7Y",
        "outputId": "efa951fb-d624-4ed5-e217-48a2920ddcd9"
      },
      "source": [
        "print(X_train.shape)\n",
        "print(X_test.shape)\n",
        "print(y_train.shape)\n",
        "print(y_test.shape)"
      ],
      "execution_count": null,
      "outputs": [
        {
          "output_type": "stream",
          "text": [
            "(40, 6)\n",
            "(10, 6)\n",
            "(40, 2)\n",
            "(10, 2)\n"
          ],
          "name": "stdout"
        }
      ]
    },
    {
      "cell_type": "code",
      "metadata": {
        "id": "Fnwxx3XDRpHC"
      },
      "source": [
        ""
      ],
      "execution_count": null,
      "outputs": []
    },
    {
      "cell_type": "code",
      "metadata": {
        "id": "4r7fiogLRpJk"
      },
      "source": [
        ""
      ],
      "execution_count": null,
      "outputs": []
    },
    {
      "cell_type": "markdown",
      "metadata": {
        "id": "GYtHsauARpkz"
      },
      "source": [
        "**INSIGHTS**"
      ]
    },
    {
      "cell_type": "markdown",
      "metadata": {
        "id": "NIfgSfHETdK_"
      },
      "source": [
        "CORRELATION"
      ]
    },
    {
      "cell_type": "code",
      "metadata": {
        "id": "qk9OK4m5RsiO"
      },
      "source": [
        "X_t = X_np.T\n",
        "y_t = y_np.T"
      ],
      "execution_count": null,
      "outputs": []
    },
    {
      "cell_type": "code",
      "metadata": {
        "colab": {
          "base_uri": "https://localhost:8080/"
        },
        "id": "b6WRyjsWSKmx",
        "outputId": "4e36f1b0-e3c2-4af8-b8e6-8156fa3a9d8d"
      },
      "source": [
        "X_t.shape"
      ],
      "execution_count": null,
      "outputs": [
        {
          "output_type": "execute_result",
          "data": {
            "text/plain": [
              "(6, 50)"
            ]
          },
          "metadata": {},
          "execution_count": 44
        }
      ]
    },
    {
      "cell_type": "code",
      "metadata": {
        "colab": {
          "base_uri": "https://localhost:8080/"
        },
        "id": "5oPyPy1gSKpB",
        "outputId": "fc47b0b7-1747-476d-a7c5-bc308de9dae5"
      },
      "source": [
        "y_t.shape"
      ],
      "execution_count": null,
      "outputs": [
        {
          "output_type": "execute_result",
          "data": {
            "text/plain": [
              "(2, 50)"
            ]
          },
          "metadata": {},
          "execution_count": 45
        }
      ]
    },
    {
      "cell_type": "code",
      "metadata": {
        "id": "JC34n-nWSKrI"
      },
      "source": [
        "corrs_1 = []\n",
        "corrs_2 = []\n",
        "for i in range(6):\n",
        "  temp_x = pd.Series(X_t[i])\n",
        "  temp_y1 = pd.Series(y_t[0])\n",
        "  temp_y2 = pd.Series(y_t[1])\n",
        "  corrs_1.append(temp_y1.corr(temp_x))\n",
        "  corrs_2.append(temp_y2.corr(temp_x))"
      ],
      "execution_count": null,
      "outputs": []
    },
    {
      "cell_type": "code",
      "metadata": {
        "colab": {
          "base_uri": "https://localhost:8080/"
        },
        "id": "XIYw6CoOTBLH",
        "outputId": "681e16e6-4dcf-49b5-ff08-ac85ea8b4d6c"
      },
      "source": [
        "corrs_1"
      ],
      "execution_count": null,
      "outputs": [
        {
          "output_type": "execute_result",
          "data": {
            "text/plain": [
              "[-0.16591898873880306,\n",
              " 0.16491626674072948,\n",
              " 0.10788988552112636,\n",
              " -0.025304949438879128,\n",
              " -0.07651794438563209,\n",
              " 0.22868296790971385]"
            ]
          },
          "metadata": {},
          "execution_count": 49
        }
      ]
    },
    {
      "cell_type": "code",
      "metadata": {
        "colab": {
          "base_uri": "https://localhost:8080/"
        },
        "id": "TMtaqyiATBNd",
        "outputId": "7aee8400-0e84-4e82-d8b0-b99c505ad1f9"
      },
      "source": [
        "corrs_2"
      ],
      "execution_count": null,
      "outputs": [
        {
          "output_type": "execute_result",
          "data": {
            "text/plain": [
              "[0.2602650136878104,\n",
              " 0.15526966484187646,\n",
              " -0.056994145277039714,\n",
              " -0.02840539938050075,\n",
              " 0.019005101860027112,\n",
              " -0.03084143665330193]"
            ]
          },
          "metadata": {},
          "execution_count": 50
        }
      ]
    },
    {
      "cell_type": "markdown",
      "metadata": {
        "id": "N95JRLhGVWn1"
      },
      "source": [
        "More resrouces/ideas for things to do - \n",
        "https://realpython.com/pandas-python-explore-dataset/, \n",
        "https://towardsdatascience.com/a-beginners-guide-to-data-analysis-in-python-188706df5447"
      ]
    },
    {
      "cell_type": "code",
      "metadata": {
        "id": "OVjMRccvTfQl"
      },
      "source": [
        ""
      ],
      "execution_count": null,
      "outputs": []
    },
    {
      "cell_type": "code",
      "metadata": {
        "id": "rULnlp85TfSs"
      },
      "source": [
        ""
      ],
      "execution_count": null,
      "outputs": []
    },
    {
      "cell_type": "code",
      "metadata": {
        "id": "Z1UJgBITTfVU"
      },
      "source": [
        ""
      ],
      "execution_count": null,
      "outputs": []
    },
    {
      "cell_type": "markdown",
      "metadata": {
        "id": "opkwLeZOOpbN"
      },
      "source": [
        "**LINEAR REGRESSION**"
      ]
    },
    {
      "cell_type": "code",
      "metadata": {
        "colab": {
          "base_uri": "https://localhost:8080/"
        },
        "id": "KUUmrb2fM0YX",
        "outputId": "1259277c-a27a-4d6d-fc63-70dd13edb25d"
      },
      "source": [
        "regr = linear_model.LinearRegression()\n",
        "regr.fit(X_train, y_train)"
      ],
      "execution_count": null,
      "outputs": [
        {
          "output_type": "execute_result",
          "data": {
            "text/plain": [
              "LinearRegression(copy_X=True, fit_intercept=True, n_jobs=None, normalize=False)"
            ]
          },
          "metadata": {},
          "execution_count": 28
        }
      ]
    },
    {
      "cell_type": "code",
      "metadata": {
        "colab": {
          "base_uri": "https://localhost:8080/"
        },
        "id": "RFkQ-mlxOQQY",
        "outputId": "f467f0ea-1d7f-4bbc-c4dc-975eed51765d"
      },
      "source": [
        "preds = regr.predict(X_test)\n",
        "preds.astype(int)"
      ],
      "execution_count": null,
      "outputs": [
        {
          "output_type": "execute_result",
          "data": {
            "text/plain": [
              "array([[3, 1],\n",
              "       [3, 2],\n",
              "       [3, 3],\n",
              "       [3, 1],\n",
              "       [3, 4],\n",
              "       [3, 2],\n",
              "       [4, 2],\n",
              "       [3, 3],\n",
              "       [5, 1],\n",
              "       [4, 2]])"
            ]
          },
          "metadata": {},
          "execution_count": 30
        }
      ]
    },
    {
      "cell_type": "code",
      "metadata": {
        "colab": {
          "base_uri": "https://localhost:8080/"
        },
        "id": "tDOKJyqXOaWI",
        "outputId": "90f030ae-fa9b-48c3-baee-a1ee7ddad56f"
      },
      "source": [
        "y_test"
      ],
      "execution_count": null,
      "outputs": [
        {
          "output_type": "execute_result",
          "data": {
            "text/plain": [
              "array([[3, 7],\n",
              "       [4, 3],\n",
              "       [3, 4],\n",
              "       [1, 7],\n",
              "       [1, 1],\n",
              "       [4, 4],\n",
              "       [6, 0],\n",
              "       [4, 1],\n",
              "       [7, 6],\n",
              "       [6, 4]])"
            ]
          },
          "metadata": {},
          "execution_count": 31
        }
      ]
    },
    {
      "cell_type": "code",
      "metadata": {
        "id": "axM3P8xfOhEH"
      },
      "source": [
        ""
      ],
      "execution_count": null,
      "outputs": []
    },
    {
      "cell_type": "markdown",
      "metadata": {
        "id": "1Nhh-crmPNbh"
      },
      "source": [
        "**SUPPORT VECTOR REGRESSOR**"
      ]
    },
    {
      "cell_type": "code",
      "metadata": {
        "colab": {
          "base_uri": "https://localhost:8080/"
        },
        "id": "sCqweImbPP-t",
        "outputId": "eea62051-06ab-4e17-9c66-38a085faf82f"
      },
      "source": [
        "svr = SVR(epsilon=0.2)\n",
        "mor = MultiOutputRegressor(svr)\n",
        "mor = mor.fit(X_train, y_train)\n",
        "preds = mor.predict(X_test)\n",
        "preds.astype(int)"
      ],
      "execution_count": null,
      "outputs": [
        {
          "output_type": "execute_result",
          "data": {
            "text/plain": [
              "array([[3, 1],\n",
              "       [4, 2],\n",
              "       [3, 3],\n",
              "       [3, 2],\n",
              "       [4, 2],\n",
              "       [2, 2],\n",
              "       [4, 2],\n",
              "       [4, 2],\n",
              "       [4, 2],\n",
              "       [4, 2]])"
            ]
          },
          "metadata": {},
          "execution_count": 35
        }
      ]
    },
    {
      "cell_type": "code",
      "metadata": {
        "id": "_2TiIXJaPnUc"
      },
      "source": [
        ""
      ],
      "execution_count": null,
      "outputs": []
    },
    {
      "cell_type": "markdown",
      "metadata": {
        "id": "IgtPWwdBVygN"
      },
      "source": [
        "**RANDOM FOREST REGRESSOR**"
      ]
    },
    {
      "cell_type": "code",
      "metadata": {
        "colab": {
          "base_uri": "https://localhost:8080/"
        },
        "id": "TYaBmrZpV0pg",
        "outputId": "2da85273-0f31-406c-9fae-02c8e8d451e8"
      },
      "source": [
        "regr = RandomForestRegressor(max_depth=2, random_state=0)\n",
        "regr.fit(X_train, y_train)"
      ],
      "execution_count": null,
      "outputs": [
        {
          "output_type": "execute_result",
          "data": {
            "text/plain": [
              "RandomForestRegressor(bootstrap=True, ccp_alpha=0.0, criterion='mse',\n",
              "                      max_depth=2, max_features='auto', max_leaf_nodes=None,\n",
              "                      max_samples=None, min_impurity_decrease=0.0,\n",
              "                      min_impurity_split=None, min_samples_leaf=1,\n",
              "                      min_samples_split=2, min_weight_fraction_leaf=0.0,\n",
              "                      n_estimators=100, n_jobs=None, oob_score=False,\n",
              "                      random_state=0, verbose=0, warm_start=False)"
            ]
          },
          "metadata": {},
          "execution_count": 52
        }
      ]
    },
    {
      "cell_type": "code",
      "metadata": {
        "colab": {
          "base_uri": "https://localhost:8080/"
        },
        "id": "aarOALyrWFGX",
        "outputId": "aa133006-3346-41f2-902a-5331eac617a8"
      },
      "source": [
        "preds = regr.predict(X_test)\n",
        "preds.astype(int)"
      ],
      "execution_count": null,
      "outputs": [
        {
          "output_type": "execute_result",
          "data": {
            "text/plain": [
              "array([[3, 2],\n",
              "       [3, 3],\n",
              "       [3, 4],\n",
              "       [3, 2],\n",
              "       [3, 3],\n",
              "       [3, 2],\n",
              "       [3, 3],\n",
              "       [4, 2],\n",
              "       [3, 2],\n",
              "       [3, 2]])"
            ]
          },
          "metadata": {},
          "execution_count": 53
        }
      ]
    },
    {
      "cell_type": "code",
      "metadata": {
        "id": "OEN1t5yLWHuS"
      },
      "source": [
        ""
      ],
      "execution_count": null,
      "outputs": []
    }
  ]
}